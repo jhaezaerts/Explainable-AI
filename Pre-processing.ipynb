{
 "cells": [
  {
   "cell_type": "markdown",
   "id": "sound-minute",
   "metadata": {},
   "source": [
    "# Explainable AI: Application in Credit Scoring\n",
    "\n",
    "## Pre-processing\n",
    "\n",
    "Thesis: Explainable AI: Applications in Credit Scoring\n",
    "Degree: Master of Information Management\n",
    "Dataset: Give Me Some Credit (GMC), taken from Kaggle"
   ]
  },
  {
   "cell_type": "code",
   "execution_count": 42,
   "id": "chicken-success",
   "metadata": {},
   "outputs": [],
   "source": [
    "import pandas as pd\n",
    "from sklearn.impute import SimpleImputer\n",
    "from sklearn.preprocessing import MinMaxScaler\n",
    "from statsmodels.stats.outliers_influence import variance_inflation_factor"
   ]
  },
  {
   "cell_type": "code",
   "execution_count": 7,
   "id": "expanded-special",
   "metadata": {},
   "outputs": [],
   "source": [
    "# Import the training dataset\n",
    "path = \"~/Desktop/Master of Information Management/Master's Thesis/GiveMeSomeCredit/cs-training.csv\"\n",
    "df_training = pd.read_csv(path)"
   ]
  },
  {
   "cell_type": "code",
   "execution_count": 11,
   "id": "exotic-dynamics",
   "metadata": {},
   "outputs": [],
   "source": [
    "df_training.drop(['Unnamed: 0'], axis=1, inplace=True)"
   ]
  },
  {
   "cell_type": "code",
   "execution_count": 13,
   "id": "nutritional-holder",
   "metadata": {},
   "outputs": [],
   "source": [
    "# Dealing with missing values\n",
    "imputer = SimpleImputer(strategy=\"median\")"
   ]
  },
  {
   "cell_type": "code",
   "execution_count": 15,
   "id": "romance-failing",
   "metadata": {},
   "outputs": [
    {
     "data": {
      "text/plain": [
       "SimpleImputer(strategy='median')"
      ]
     },
     "execution_count": 15,
     "metadata": {},
     "output_type": "execute_result"
    }
   ],
   "source": [
    "imputer.fit(df_training)"
   ]
  },
  {
   "cell_type": "code",
   "execution_count": 18,
   "id": "realistic-receipt",
   "metadata": {},
   "outputs": [],
   "source": [
    "X = imputer.transform(df_training)"
   ]
  },
  {
   "cell_type": "code",
   "execution_count": 23,
   "id": "constitutional-jersey",
   "metadata": {},
   "outputs": [],
   "source": [
    "df_training = pd.DataFrame(X, columns=df_training.columns, index=df_training.index)"
   ]
  },
  {
   "cell_type": "code",
   "execution_count": 30,
   "id": "vocational-ideal",
   "metadata": {},
   "outputs": [
    {
     "data": {
      "text/plain": [
       "SeriousDlqin2yrs                        0\n",
       "RevolvingUtilizationOfUnsecuredLines    0\n",
       "age                                     0\n",
       "NumberOfTime30-59DaysPastDueNotWorse    0\n",
       "DebtRatio                               0\n",
       "MonthlyIncome                           0\n",
       "NumberOfOpenCreditLinesAndLoans         0\n",
       "NumberOfTimes90DaysLate                 0\n",
       "NumberRealEstateLoansOrLines            0\n",
       "NumberOfTime60-89DaysPastDueNotWorse    0\n",
       "NumberOfDependents                      0\n",
       "dtype: int64"
      ]
     },
     "execution_count": 30,
     "metadata": {},
     "output_type": "execute_result"
    }
   ],
   "source": [
    "df_training.isna().sum()"
   ]
  },
  {
   "cell_type": "code",
   "execution_count": 32,
   "id": "happy-server",
   "metadata": {},
   "outputs": [],
   "source": [
    "# Feature scaling\n",
    "scaler = MinMaxScaler()"
   ]
  },
  {
   "cell_type": "code",
   "execution_count": 33,
   "id": "introductory-calibration",
   "metadata": {},
   "outputs": [
    {
     "data": {
      "text/plain": [
       "MinMaxScaler()"
      ]
     },
     "execution_count": 33,
     "metadata": {},
     "output_type": "execute_result"
    }
   ],
   "source": [
    "scaler.fit(df_training)"
   ]
  },
  {
   "cell_type": "code",
   "execution_count": 34,
   "id": "concerned-employee",
   "metadata": {},
   "outputs": [],
   "source": [
    "Y = scaler.transform(df_training)"
   ]
  },
  {
   "cell_type": "code",
   "execution_count": 37,
   "id": "explicit-bhutan",
   "metadata": {},
   "outputs": [],
   "source": [
    "df_training = pd.DataFrame(Y, columns=df_training.columns, index=df_training.index)"
   ]
  },
  {
   "cell_type": "code",
   "execution_count": 40,
   "id": "recognized-macro",
   "metadata": {},
   "outputs": [
    {
     "data": {
      "text/html": [
       "<div>\n",
       "<style scoped>\n",
       "    .dataframe tbody tr th:only-of-type {\n",
       "        vertical-align: middle;\n",
       "    }\n",
       "\n",
       "    .dataframe tbody tr th {\n",
       "        vertical-align: top;\n",
       "    }\n",
       "\n",
       "    .dataframe thead th {\n",
       "        text-align: right;\n",
       "    }\n",
       "</style>\n",
       "<table border=\"1\" class=\"dataframe\">\n",
       "  <thead>\n",
       "    <tr style=\"text-align: right;\">\n",
       "      <th></th>\n",
       "      <th>SeriousDlqin2yrs</th>\n",
       "      <th>RevolvingUtilizationOfUnsecuredLines</th>\n",
       "      <th>age</th>\n",
       "      <th>NumberOfTime30-59DaysPastDueNotWorse</th>\n",
       "      <th>DebtRatio</th>\n",
       "      <th>MonthlyIncome</th>\n",
       "      <th>NumberOfOpenCreditLinesAndLoans</th>\n",
       "      <th>NumberOfTimes90DaysLate</th>\n",
       "      <th>NumberRealEstateLoansOrLines</th>\n",
       "      <th>NumberOfTime60-89DaysPastDueNotWorse</th>\n",
       "      <th>NumberOfDependents</th>\n",
       "    </tr>\n",
       "  </thead>\n",
       "  <tbody>\n",
       "    <tr>\n",
       "      <th>count</th>\n",
       "      <td>150000.000000</td>\n",
       "      <td>1.500000e+05</td>\n",
       "      <td>150000.000000</td>\n",
       "      <td>150000.000000</td>\n",
       "      <td>1.500000e+05</td>\n",
       "      <td>150000.000000</td>\n",
       "      <td>150000.000000</td>\n",
       "      <td>150000.000000</td>\n",
       "      <td>150000.000000</td>\n",
       "      <td>150000.000000</td>\n",
       "      <td>150000.000000</td>\n",
       "    </tr>\n",
       "    <tr>\n",
       "      <th>mean</th>\n",
       "      <td>0.066840</td>\n",
       "      <td>1.192798e-04</td>\n",
       "      <td>0.479773</td>\n",
       "      <td>0.004296</td>\n",
       "      <td>1.070803e-03</td>\n",
       "      <td>0.002133</td>\n",
       "      <td>0.145737</td>\n",
       "      <td>0.002714</td>\n",
       "      <td>0.018856</td>\n",
       "      <td>0.002453</td>\n",
       "      <td>0.036871</td>\n",
       "    </tr>\n",
       "    <tr>\n",
       "      <th>std</th>\n",
       "      <td>0.249746</td>\n",
       "      <td>4.925364e-03</td>\n",
       "      <td>0.135522</td>\n",
       "      <td>0.042783</td>\n",
       "      <td>6.181502e-03</td>\n",
       "      <td>0.004284</td>\n",
       "      <td>0.088723</td>\n",
       "      <td>0.042544</td>\n",
       "      <td>0.020922</td>\n",
       "      <td>0.042400</td>\n",
       "      <td>0.055351</td>\n",
       "    </tr>\n",
       "    <tr>\n",
       "      <th>min</th>\n",
       "      <td>0.000000</td>\n",
       "      <td>0.000000e+00</td>\n",
       "      <td>0.000000</td>\n",
       "      <td>0.000000</td>\n",
       "      <td>0.000000e+00</td>\n",
       "      <td>0.000000</td>\n",
       "      <td>0.000000</td>\n",
       "      <td>0.000000</td>\n",
       "      <td>0.000000</td>\n",
       "      <td>0.000000</td>\n",
       "      <td>0.000000</td>\n",
       "    </tr>\n",
       "    <tr>\n",
       "      <th>25%</th>\n",
       "      <td>0.000000</td>\n",
       "      <td>5.890085e-07</td>\n",
       "      <td>0.376147</td>\n",
       "      <td>0.000000</td>\n",
       "      <td>5.310675e-07</td>\n",
       "      <td>0.001297</td>\n",
       "      <td>0.086207</td>\n",
       "      <td>0.000000</td>\n",
       "      <td>0.000000</td>\n",
       "      <td>0.000000</td>\n",
       "      <td>0.000000</td>\n",
       "    </tr>\n",
       "    <tr>\n",
       "      <th>50%</th>\n",
       "      <td>0.000000</td>\n",
       "      <td>3.040560e-06</td>\n",
       "      <td>0.477064</td>\n",
       "      <td>0.000000</td>\n",
       "      <td>1.111762e-06</td>\n",
       "      <td>0.001795</td>\n",
       "      <td>0.137931</td>\n",
       "      <td>0.000000</td>\n",
       "      <td>0.018519</td>\n",
       "      <td>0.000000</td>\n",
       "      <td>0.000000</td>\n",
       "    </tr>\n",
       "    <tr>\n",
       "      <th>75%</th>\n",
       "      <td>0.000000</td>\n",
       "      <td>1.102481e-05</td>\n",
       "      <td>0.577982</td>\n",
       "      <td>0.000000</td>\n",
       "      <td>2.633754e-06</td>\n",
       "      <td>0.002459</td>\n",
       "      <td>0.189655</td>\n",
       "      <td>0.000000</td>\n",
       "      <td>0.037037</td>\n",
       "      <td>0.000000</td>\n",
       "      <td>0.050000</td>\n",
       "    </tr>\n",
       "    <tr>\n",
       "      <th>max</th>\n",
       "      <td>1.000000</td>\n",
       "      <td>1.000000e+00</td>\n",
       "      <td>1.000000</td>\n",
       "      <td>1.000000</td>\n",
       "      <td>1.000000e+00</td>\n",
       "      <td>1.000000</td>\n",
       "      <td>1.000000</td>\n",
       "      <td>1.000000</td>\n",
       "      <td>1.000000</td>\n",
       "      <td>1.000000</td>\n",
       "      <td>1.000000</td>\n",
       "    </tr>\n",
       "  </tbody>\n",
       "</table>\n",
       "</div>"
      ],
      "text/plain": [
       "       SeriousDlqin2yrs  RevolvingUtilizationOfUnsecuredLines            age  \\\n",
       "count     150000.000000                          1.500000e+05  150000.000000   \n",
       "mean           0.066840                          1.192798e-04       0.479773   \n",
       "std            0.249746                          4.925364e-03       0.135522   \n",
       "min            0.000000                          0.000000e+00       0.000000   \n",
       "25%            0.000000                          5.890085e-07       0.376147   \n",
       "50%            0.000000                          3.040560e-06       0.477064   \n",
       "75%            0.000000                          1.102481e-05       0.577982   \n",
       "max            1.000000                          1.000000e+00       1.000000   \n",
       "\n",
       "       NumberOfTime30-59DaysPastDueNotWorse     DebtRatio  MonthlyIncome  \\\n",
       "count                         150000.000000  1.500000e+05  150000.000000   \n",
       "mean                               0.004296  1.070803e-03       0.002133   \n",
       "std                                0.042783  6.181502e-03       0.004284   \n",
       "min                                0.000000  0.000000e+00       0.000000   \n",
       "25%                                0.000000  5.310675e-07       0.001297   \n",
       "50%                                0.000000  1.111762e-06       0.001795   \n",
       "75%                                0.000000  2.633754e-06       0.002459   \n",
       "max                                1.000000  1.000000e+00       1.000000   \n",
       "\n",
       "       NumberOfOpenCreditLinesAndLoans  NumberOfTimes90DaysLate  \\\n",
       "count                    150000.000000            150000.000000   \n",
       "mean                          0.145737                 0.002714   \n",
       "std                           0.088723                 0.042544   \n",
       "min                           0.000000                 0.000000   \n",
       "25%                           0.086207                 0.000000   \n",
       "50%                           0.137931                 0.000000   \n",
       "75%                           0.189655                 0.000000   \n",
       "max                           1.000000                 1.000000   \n",
       "\n",
       "       NumberRealEstateLoansOrLines  NumberOfTime60-89DaysPastDueNotWorse  \\\n",
       "count                 150000.000000                         150000.000000   \n",
       "mean                       0.018856                              0.002453   \n",
       "std                        0.020922                              0.042400   \n",
       "min                        0.000000                              0.000000   \n",
       "25%                        0.000000                              0.000000   \n",
       "50%                        0.018519                              0.000000   \n",
       "75%                        0.037037                              0.000000   \n",
       "max                        1.000000                              1.000000   \n",
       "\n",
       "       NumberOfDependents  \n",
       "count       150000.000000  \n",
       "mean             0.036871  \n",
       "std              0.055351  \n",
       "min              0.000000  \n",
       "25%              0.000000  \n",
       "50%              0.000000  \n",
       "75%              0.050000  \n",
       "max              1.000000  "
      ]
     },
     "execution_count": 40,
     "metadata": {},
     "output_type": "execute_result"
    }
   ],
   "source": [
    "df_training.describe()"
   ]
  },
  {
   "cell_type": "code",
   "execution_count": 44,
   "id": "annoying-graphics",
   "metadata": {},
   "outputs": [],
   "source": [
    "# Dealing with multicollinearity based on VIF\n",
    "\n",
    "## independent variabels set\n",
    "X = df_training[['RevolvingUtilizationOfUnsecuredLines', 'age',\n",
    "       'NumberOfTime30-59DaysPastDueNotWorse', 'DebtRatio', 'MonthlyIncome',\n",
    "       'NumberOfOpenCreditLinesAndLoans', 'NumberOfTimes90DaysLate',\n",
    "       'NumberRealEstateLoansOrLines', 'NumberOfTime60-89DaysPastDueNotWorse',\n",
    "       'NumberOfDependents']]"
   ]
  },
  {
   "cell_type": "code",
   "execution_count": 46,
   "id": "growing-pixel",
   "metadata": {},
   "outputs": [],
   "source": [
    "## VIF dataframe\n",
    "vif_data = pd.DataFrame()"
   ]
  },
  {
   "cell_type": "code",
   "execution_count": 47,
   "id": "indoor-healthcare",
   "metadata": {},
   "outputs": [],
   "source": [
    "vif_data[\"feature\"] = X.columns"
   ]
  },
  {
   "cell_type": "code",
   "execution_count": 48,
   "id": "measured-albert",
   "metadata": {},
   "outputs": [],
   "source": [
    "## calculating VIF for each feature\n",
    "vif_data[\"VIF\"] = [variance_inflation_factor(X.values, i) for i in range(len(X.columns))]"
   ]
  },
  {
   "cell_type": "code",
   "execution_count": 49,
   "id": "interracial-morning",
   "metadata": {},
   "outputs": [
    {
     "name": "stdout",
     "output_type": "stream",
     "text": [
      "                                feature        VIF\n",
      "0  RevolvingUtilizationOfUnsecuredLines   1.000777\n",
      "1                                   age   3.638439\n",
      "2  NumberOfTime30-59DaysPastDueNotWorse  41.173243\n",
      "3                             DebtRatio   1.049552\n",
      "4                         MonthlyIncome   1.269632\n",
      "5       NumberOfOpenCreditLinesAndLoans   4.570548\n",
      "6               NumberOfTimes90DaysLate  73.196237\n",
      "7          NumberRealEstateLoansOrLines   2.304678\n",
      "8  NumberOfTime60-89DaysPastDueNotWorse  91.181441\n",
      "9                    NumberOfDependents   1.403443\n"
     ]
    }
   ],
   "source": [
    "print(vif_data)"
   ]
  },
  {
   "cell_type": "code",
   "execution_count": 51,
   "id": "assumed-exclusion",
   "metadata": {},
   "outputs": [],
   "source": [
    "## drop 'NumberOfTime30-59DaysPastDueNotWorse' and 'NumberOfTime60-89DaysPastDueNotWorse' and repeat process\n",
    "X = df_training[['RevolvingUtilizationOfUnsecuredLines', 'age',\n",
    "       'NumberOfTime30-59DaysPastDueNotWorse', 'DebtRatio', 'MonthlyIncome',\n",
    "       'NumberOfOpenCreditLinesAndLoans', 'NumberRealEstateLoansOrLines',\n",
    "       'NumberOfDependents']]"
   ]
  },
  {
   "cell_type": "code",
   "execution_count": 52,
   "id": "protected-intention",
   "metadata": {},
   "outputs": [],
   "source": [
    "vif_data=pd.DataFrame()"
   ]
  },
  {
   "cell_type": "code",
   "execution_count": 53,
   "id": "cubic-merit",
   "metadata": {},
   "outputs": [],
   "source": [
    "vif_data[\"feature\"] = X.columns"
   ]
  },
  {
   "cell_type": "code",
   "execution_count": 54,
   "id": "compact-blanket",
   "metadata": {},
   "outputs": [],
   "source": [
    "vif_data[\"VIF\"] = [variance_inflation_factor(X.values, i) for i in range(len(X.columns))]"
   ]
  },
  {
   "cell_type": "code",
   "execution_count": 55,
   "id": "selective-cameroon",
   "metadata": {},
   "outputs": [
    {
     "name": "stdout",
     "output_type": "stream",
     "text": [
      "                                feature       VIF\n",
      "0  RevolvingUtilizationOfUnsecuredLines  1.000777\n",
      "1                                   age  3.623498\n",
      "2  NumberOfTime30-59DaysPastDueNotWorse  1.007052\n",
      "3                             DebtRatio  1.049539\n",
      "4                         MonthlyIncome  1.269621\n",
      "5       NumberOfOpenCreditLinesAndLoans  4.502202\n",
      "6          NumberRealEstateLoansOrLines  2.303571\n",
      "7                    NumberOfDependents  1.399348\n"
     ]
    }
   ],
   "source": [
    "print(vif_data)"
   ]
  },
  {
   "cell_type": "code",
   "execution_count": 57,
   "id": "smooth-leader",
   "metadata": {},
   "outputs": [],
   "source": [
    "df_training = df_training.drop(['NumberOfTime60-89DaysPastDueNotWorse', 'NumberOfTimes90DaysLate'], axis=1)"
   ]
  },
  {
   "cell_type": "code",
   "execution_count": 60,
   "id": "local-bryan",
   "metadata": {},
   "outputs": [
    {
     "data": {
      "text/plain": [
       "(150000, 9)"
      ]
     },
     "execution_count": 60,
     "metadata": {},
     "output_type": "execute_result"
    }
   ],
   "source": [
    "df_training.shape"
   ]
  },
  {
   "cell_type": "code",
   "execution_count": 61,
   "id": "latter-awareness",
   "metadata": {},
   "outputs": [
    {
     "data": {
      "text/plain": [
       "Index(['SeriousDlqin2yrs', 'RevolvingUtilizationOfUnsecuredLines', 'age',\n",
       "       'NumberOfTime30-59DaysPastDueNotWorse', 'DebtRatio', 'MonthlyIncome',\n",
       "       'NumberOfOpenCreditLinesAndLoans', 'NumberRealEstateLoansOrLines',\n",
       "       'NumberOfDependents'],\n",
       "      dtype='object')"
      ]
     },
     "execution_count": 61,
     "metadata": {},
     "output_type": "execute_result"
    }
   ],
   "source": [
    "df_training.columns"
   ]
  },
  {
   "cell_type": "code",
   "execution_count": 62,
   "id": "protected-northern",
   "metadata": {},
   "outputs": [
    {
     "name": "stdout",
     "output_type": "stream",
     "text": [
      "<class 'pandas.core.frame.DataFrame'>\n",
      "RangeIndex: 150000 entries, 0 to 149999\n",
      "Data columns (total 9 columns):\n",
      " #   Column                                Non-Null Count   Dtype  \n",
      "---  ------                                --------------   -----  \n",
      " 0   SeriousDlqin2yrs                      150000 non-null  float64\n",
      " 1   RevolvingUtilizationOfUnsecuredLines  150000 non-null  float64\n",
      " 2   age                                   150000 non-null  float64\n",
      " 3   NumberOfTime30-59DaysPastDueNotWorse  150000 non-null  float64\n",
      " 4   DebtRatio                             150000 non-null  float64\n",
      " 5   MonthlyIncome                         150000 non-null  float64\n",
      " 6   NumberOfOpenCreditLinesAndLoans       150000 non-null  float64\n",
      " 7   NumberRealEstateLoansOrLines          150000 non-null  float64\n",
      " 8   NumberOfDependents                    150000 non-null  float64\n",
      "dtypes: float64(9)\n",
      "memory usage: 10.3 MB\n"
     ]
    }
   ],
   "source": [
    "df_training.info()"
   ]
  },
  {
   "cell_type": "code",
   "execution_count": 67,
   "id": "agricultural-immune",
   "metadata": {},
   "outputs": [
    {
     "data": {
      "text/plain": [
       "count    1.500000e+05\n",
       "mean     1.070803e-03\n",
       "std      6.181502e-03\n",
       "min      0.000000e+00\n",
       "25%      5.310675e-07\n",
       "50%      1.111762e-06\n",
       "75%      2.633754e-06\n",
       "max      1.000000e+00\n",
       "Name: DebtRatio, dtype: float64"
      ]
     },
     "execution_count": 67,
     "metadata": {},
     "output_type": "execute_result"
    }
   ],
   "source": [
    "df_training.DebtRatio.describe()"
   ]
  }
 ],
 "metadata": {
  "kernelspec": {
   "display_name": "Python 3",
   "language": "python",
   "name": "python3"
  },
  "language_info": {
   "codemirror_mode": {
    "name": "ipython",
    "version": 3
   },
   "file_extension": ".py",
   "mimetype": "text/x-python",
   "name": "python",
   "nbconvert_exporter": "python",
   "pygments_lexer": "ipython3",
   "version": "3.8.5"
  }
 },
 "nbformat": 4,
 "nbformat_minor": 5
}
