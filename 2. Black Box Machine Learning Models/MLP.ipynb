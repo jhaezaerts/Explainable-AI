{
 "cells": [
  {
   "cell_type": "markdown",
   "id": "trained-milton",
   "metadata": {},
   "source": [
    "# Explainable AI: Application in Credit Scoring\n",
    "\n",
    "## Training a multi-layer perceptron\n",
    "\n",
    "Thesis: Explainable AI: Applications in Credit Scoring\n",
    "Degree: Master of Information Management\n",
    "Dataset: Give Me Some Credit (GMC), taken from Kaggle"
   ]
  },
  {
   "cell_type": "code",
   "execution_count": null,
   "id": "whole-removal",
   "metadata": {},
   "outputs": [],
   "source": []
  }
 ],
 "metadata": {
  "kernelspec": {
   "display_name": "Python 3",
   "language": "python",
   "name": "python3"
  },
  "language_info": {
   "codemirror_mode": {
    "name": "ipython",
    "version": 3
   },
   "file_extension": ".py",
   "mimetype": "text/x-python",
   "name": "python",
   "nbconvert_exporter": "python",
   "pygments_lexer": "ipython3",
   "version": "3.8.5"
  }
 },
 "nbformat": 4,
 "nbformat_minor": 5
}
