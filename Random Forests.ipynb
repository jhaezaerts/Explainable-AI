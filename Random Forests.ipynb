{
 "cells": [
  {
   "cell_type": "markdown",
   "id": "classical-carter",
   "metadata": {},
   "source": [
    "# Explainable AI: Application in Credit Scoring\n",
    "\n",
    "## Training Random forests\n",
    "\n",
    "Thesis: Explainable AI: Applications in Credit Scoring\n",
    "Degree: Master of Information Management\n",
    "Dataset: Give Me Some Credit (GMC), taken from Kaggle"
   ]
  },
  {
   "cell_type": "code",
   "execution_count": 80,
   "id": "exposed-awareness",
   "metadata": {},
   "outputs": [],
   "source": [
    "# Pre-processing libraries\n",
    "import numpy as np\n",
    "import pandas as pd\n",
    "from sklearn.impute import SimpleImputer\n",
    "from sklearn.preprocessing import MinMaxScaler\n",
    "from statsmodels.stats.outliers_influence import variance_inflation_factor"
   ]
  },
  {
   "cell_type": "code",
   "execution_count": 81,
   "id": "average-catholic",
   "metadata": {},
   "outputs": [],
   "source": [
    "# ML-related libraries\n",
    "from sklearn.ensemble import RandomForestClassifier\n",
    "from sklearn.model_selection import cross_val_score, GridSearchCV, train_test_split"
   ]
  },
  {
   "cell_type": "code",
   "execution_count": 2,
   "id": "municipal-median",
   "metadata": {},
   "outputs": [],
   "source": [
    "# Import the training dataset\n",
    "path = \"~/Desktop/Master of Information Management/Master's Thesis/GiveMeSomeCredit/cs-training.csv\"\n",
    "df_training = pd.read_csv(path)"
   ]
  },
  {
   "cell_type": "code",
   "execution_count": 3,
   "id": "reverse-garage",
   "metadata": {},
   "outputs": [],
   "source": [
    "df_training.drop(['Unnamed: 0'], axis=1, inplace=True)"
   ]
  },
  {
   "cell_type": "code",
   "execution_count": 4,
   "id": "furnished-gospel",
   "metadata": {},
   "outputs": [],
   "source": [
    "# Dealing with missing values\n",
    "imputer = SimpleImputer(strategy=\"median\")"
   ]
  },
  {
   "cell_type": "code",
   "execution_count": 5,
   "id": "metallic-source",
   "metadata": {},
   "outputs": [
    {
     "data": {
      "text/plain": [
       "SimpleImputer(strategy='median')"
      ]
     },
     "execution_count": 5,
     "metadata": {},
     "output_type": "execute_result"
    }
   ],
   "source": [
    "imputer.fit(df_training)"
   ]
  },
  {
   "cell_type": "code",
   "execution_count": 6,
   "id": "moved-dialogue",
   "metadata": {},
   "outputs": [],
   "source": [
    "X = imputer.transform(df_training)"
   ]
  },
  {
   "cell_type": "code",
   "execution_count": 7,
   "id": "robust-detector",
   "metadata": {},
   "outputs": [],
   "source": [
    "df_training = pd.DataFrame(X, columns=df_training.columns, index=df_training.index)"
   ]
  },
  {
   "cell_type": "code",
   "execution_count": 8,
   "id": "excessive-strengthening",
   "metadata": {},
   "outputs": [
    {
     "data": {
      "text/plain": [
       "SeriousDlqin2yrs                        0\n",
       "RevolvingUtilizationOfUnsecuredLines    0\n",
       "age                                     0\n",
       "NumberOfTime30-59DaysPastDueNotWorse    0\n",
       "DebtRatio                               0\n",
       "MonthlyIncome                           0\n",
       "NumberOfOpenCreditLinesAndLoans         0\n",
       "NumberOfTimes90DaysLate                 0\n",
       "NumberRealEstateLoansOrLines            0\n",
       "NumberOfTime60-89DaysPastDueNotWorse    0\n",
       "NumberOfDependents                      0\n",
       "dtype: int64"
      ]
     },
     "execution_count": 8,
     "metadata": {},
     "output_type": "execute_result"
    }
   ],
   "source": [
    "df_training.isna().sum()"
   ]
  },
  {
   "cell_type": "code",
   "execution_count": 9,
   "id": "final-relation",
   "metadata": {},
   "outputs": [],
   "source": [
    "# Feature scaling\n",
    "scaler = MinMaxScaler()"
   ]
  },
  {
   "cell_type": "code",
   "execution_count": 10,
   "id": "serial-hopkins",
   "metadata": {},
   "outputs": [
    {
     "data": {
      "text/plain": [
       "MinMaxScaler()"
      ]
     },
     "execution_count": 10,
     "metadata": {},
     "output_type": "execute_result"
    }
   ],
   "source": [
    "scaler.fit(df_training)"
   ]
  },
  {
   "cell_type": "code",
   "execution_count": 11,
   "id": "native-chaos",
   "metadata": {},
   "outputs": [],
   "source": [
    "Y = scaler.transform(df_training)"
   ]
  },
  {
   "cell_type": "code",
   "execution_count": 12,
   "id": "going-motel",
   "metadata": {},
   "outputs": [],
   "source": [
    "df_training = pd.DataFrame(Y, columns=df_training.columns, index=df_training.index)"
   ]
  },
  {
   "cell_type": "code",
   "execution_count": 13,
   "id": "connected-pearl",
   "metadata": {},
   "outputs": [
    {
     "data": {
      "text/html": [
       "<div>\n",
       "<style scoped>\n",
       "    .dataframe tbody tr th:only-of-type {\n",
       "        vertical-align: middle;\n",
       "    }\n",
       "\n",
       "    .dataframe tbody tr th {\n",
       "        vertical-align: top;\n",
       "    }\n",
       "\n",
       "    .dataframe thead th {\n",
       "        text-align: right;\n",
       "    }\n",
       "</style>\n",
       "<table border=\"1\" class=\"dataframe\">\n",
       "  <thead>\n",
       "    <tr style=\"text-align: right;\">\n",
       "      <th></th>\n",
       "      <th>SeriousDlqin2yrs</th>\n",
       "      <th>RevolvingUtilizationOfUnsecuredLines</th>\n",
       "      <th>age</th>\n",
       "      <th>NumberOfTime30-59DaysPastDueNotWorse</th>\n",
       "      <th>DebtRatio</th>\n",
       "      <th>MonthlyIncome</th>\n",
       "      <th>NumberOfOpenCreditLinesAndLoans</th>\n",
       "      <th>NumberOfTimes90DaysLate</th>\n",
       "      <th>NumberRealEstateLoansOrLines</th>\n",
       "      <th>NumberOfTime60-89DaysPastDueNotWorse</th>\n",
       "      <th>NumberOfDependents</th>\n",
       "    </tr>\n",
       "  </thead>\n",
       "  <tbody>\n",
       "    <tr>\n",
       "      <th>count</th>\n",
       "      <td>150000.000000</td>\n",
       "      <td>1.500000e+05</td>\n",
       "      <td>150000.000000</td>\n",
       "      <td>150000.000000</td>\n",
       "      <td>1.500000e+05</td>\n",
       "      <td>150000.000000</td>\n",
       "      <td>150000.000000</td>\n",
       "      <td>150000.000000</td>\n",
       "      <td>150000.000000</td>\n",
       "      <td>150000.000000</td>\n",
       "      <td>150000.000000</td>\n",
       "    </tr>\n",
       "    <tr>\n",
       "      <th>mean</th>\n",
       "      <td>0.066840</td>\n",
       "      <td>1.192798e-04</td>\n",
       "      <td>0.479773</td>\n",
       "      <td>0.004296</td>\n",
       "      <td>1.070803e-03</td>\n",
       "      <td>0.002133</td>\n",
       "      <td>0.145737</td>\n",
       "      <td>0.002714</td>\n",
       "      <td>0.018856</td>\n",
       "      <td>0.002453</td>\n",
       "      <td>0.036871</td>\n",
       "    </tr>\n",
       "    <tr>\n",
       "      <th>std</th>\n",
       "      <td>0.249746</td>\n",
       "      <td>4.925364e-03</td>\n",
       "      <td>0.135522</td>\n",
       "      <td>0.042783</td>\n",
       "      <td>6.181502e-03</td>\n",
       "      <td>0.004284</td>\n",
       "      <td>0.088723</td>\n",
       "      <td>0.042544</td>\n",
       "      <td>0.020922</td>\n",
       "      <td>0.042400</td>\n",
       "      <td>0.055351</td>\n",
       "    </tr>\n",
       "    <tr>\n",
       "      <th>min</th>\n",
       "      <td>0.000000</td>\n",
       "      <td>0.000000e+00</td>\n",
       "      <td>0.000000</td>\n",
       "      <td>0.000000</td>\n",
       "      <td>0.000000e+00</td>\n",
       "      <td>0.000000</td>\n",
       "      <td>0.000000</td>\n",
       "      <td>0.000000</td>\n",
       "      <td>0.000000</td>\n",
       "      <td>0.000000</td>\n",
       "      <td>0.000000</td>\n",
       "    </tr>\n",
       "    <tr>\n",
       "      <th>25%</th>\n",
       "      <td>0.000000</td>\n",
       "      <td>5.890085e-07</td>\n",
       "      <td>0.376147</td>\n",
       "      <td>0.000000</td>\n",
       "      <td>5.310675e-07</td>\n",
       "      <td>0.001297</td>\n",
       "      <td>0.086207</td>\n",
       "      <td>0.000000</td>\n",
       "      <td>0.000000</td>\n",
       "      <td>0.000000</td>\n",
       "      <td>0.000000</td>\n",
       "    </tr>\n",
       "    <tr>\n",
       "      <th>50%</th>\n",
       "      <td>0.000000</td>\n",
       "      <td>3.040560e-06</td>\n",
       "      <td>0.477064</td>\n",
       "      <td>0.000000</td>\n",
       "      <td>1.111762e-06</td>\n",
       "      <td>0.001795</td>\n",
       "      <td>0.137931</td>\n",
       "      <td>0.000000</td>\n",
       "      <td>0.018519</td>\n",
       "      <td>0.000000</td>\n",
       "      <td>0.000000</td>\n",
       "    </tr>\n",
       "    <tr>\n",
       "      <th>75%</th>\n",
       "      <td>0.000000</td>\n",
       "      <td>1.102481e-05</td>\n",
       "      <td>0.577982</td>\n",
       "      <td>0.000000</td>\n",
       "      <td>2.633754e-06</td>\n",
       "      <td>0.002459</td>\n",
       "      <td>0.189655</td>\n",
       "      <td>0.000000</td>\n",
       "      <td>0.037037</td>\n",
       "      <td>0.000000</td>\n",
       "      <td>0.050000</td>\n",
       "    </tr>\n",
       "    <tr>\n",
       "      <th>max</th>\n",
       "      <td>1.000000</td>\n",
       "      <td>1.000000e+00</td>\n",
       "      <td>1.000000</td>\n",
       "      <td>1.000000</td>\n",
       "      <td>1.000000e+00</td>\n",
       "      <td>1.000000</td>\n",
       "      <td>1.000000</td>\n",
       "      <td>1.000000</td>\n",
       "      <td>1.000000</td>\n",
       "      <td>1.000000</td>\n",
       "      <td>1.000000</td>\n",
       "    </tr>\n",
       "  </tbody>\n",
       "</table>\n",
       "</div>"
      ],
      "text/plain": [
       "       SeriousDlqin2yrs  RevolvingUtilizationOfUnsecuredLines            age  \\\n",
       "count     150000.000000                          1.500000e+05  150000.000000   \n",
       "mean           0.066840                          1.192798e-04       0.479773   \n",
       "std            0.249746                          4.925364e-03       0.135522   \n",
       "min            0.000000                          0.000000e+00       0.000000   \n",
       "25%            0.000000                          5.890085e-07       0.376147   \n",
       "50%            0.000000                          3.040560e-06       0.477064   \n",
       "75%            0.000000                          1.102481e-05       0.577982   \n",
       "max            1.000000                          1.000000e+00       1.000000   \n",
       "\n",
       "       NumberOfTime30-59DaysPastDueNotWorse     DebtRatio  MonthlyIncome  \\\n",
       "count                         150000.000000  1.500000e+05  150000.000000   \n",
       "mean                               0.004296  1.070803e-03       0.002133   \n",
       "std                                0.042783  6.181502e-03       0.004284   \n",
       "min                                0.000000  0.000000e+00       0.000000   \n",
       "25%                                0.000000  5.310675e-07       0.001297   \n",
       "50%                                0.000000  1.111762e-06       0.001795   \n",
       "75%                                0.000000  2.633754e-06       0.002459   \n",
       "max                                1.000000  1.000000e+00       1.000000   \n",
       "\n",
       "       NumberOfOpenCreditLinesAndLoans  NumberOfTimes90DaysLate  \\\n",
       "count                    150000.000000            150000.000000   \n",
       "mean                          0.145737                 0.002714   \n",
       "std                           0.088723                 0.042544   \n",
       "min                           0.000000                 0.000000   \n",
       "25%                           0.086207                 0.000000   \n",
       "50%                           0.137931                 0.000000   \n",
       "75%                           0.189655                 0.000000   \n",
       "max                           1.000000                 1.000000   \n",
       "\n",
       "       NumberRealEstateLoansOrLines  NumberOfTime60-89DaysPastDueNotWorse  \\\n",
       "count                 150000.000000                         150000.000000   \n",
       "mean                       0.018856                              0.002453   \n",
       "std                        0.020922                              0.042400   \n",
       "min                        0.000000                              0.000000   \n",
       "25%                        0.000000                              0.000000   \n",
       "50%                        0.018519                              0.000000   \n",
       "75%                        0.037037                              0.000000   \n",
       "max                        1.000000                              1.000000   \n",
       "\n",
       "       NumberOfDependents  \n",
       "count       150000.000000  \n",
       "mean             0.036871  \n",
       "std              0.055351  \n",
       "min              0.000000  \n",
       "25%              0.000000  \n",
       "50%              0.000000  \n",
       "75%              0.050000  \n",
       "max              1.000000  "
      ]
     },
     "execution_count": 13,
     "metadata": {},
     "output_type": "execute_result"
    }
   ],
   "source": [
    "df_training.describe()"
   ]
  },
  {
   "cell_type": "code",
   "execution_count": null,
   "id": "faced-vinyl",
   "metadata": {},
   "outputs": [],
   "source": [
    "# Dealing with multicollinearity (based on VIF)\n",
    "\n",
    "df_training = df_training.drop(['NumberOfTime60-89DaysPastDueNotWorse', 'NumberOfTimes90DaysLate'], axis=1)"
   ]
  },
  {
   "cell_type": "code",
   "execution_count": 20,
   "id": "contained-horizontal",
   "metadata": {},
   "outputs": [
    {
     "data": {
      "text/plain": [
       "(150000, 9)"
      ]
     },
     "execution_count": 20,
     "metadata": {},
     "output_type": "execute_result"
    }
   ],
   "source": [
    "df_training.shape"
   ]
  },
  {
   "cell_type": "code",
   "execution_count": 22,
   "id": "retained-consent",
   "metadata": {},
   "outputs": [
    {
     "data": {
      "text/plain": [
       "Index(['SeriousDlqin2yrs', 'RevolvingUtilizationOfUnsecuredLines', 'age',\n",
       "       'NumberOfTime30-59DaysPastDueNotWorse', 'DebtRatio', 'MonthlyIncome',\n",
       "       'NumberOfOpenCreditLinesAndLoans', 'NumberRealEstateLoansOrLines',\n",
       "       'NumberOfDependents'],\n",
       "      dtype='object')"
      ]
     },
     "execution_count": 22,
     "metadata": {},
     "output_type": "execute_result"
    }
   ],
   "source": [
    "df_training.columns"
   ]
  },
  {
   "cell_type": "code",
   "execution_count": 82,
   "id": "governmental-assurance",
   "metadata": {},
   "outputs": [],
   "source": [
    "# Split the dataset into features and label\n",
    "\n",
    "features = df_training.drop(['SeriousDlqin2yrs'], axis=1)\n",
    "labels = df_training['SeriousDlqin2yrs']"
   ]
  },
  {
   "cell_type": "code",
   "execution_count": 88,
   "id": "comprehensive-penguin",
   "metadata": {},
   "outputs": [],
   "source": [
    "# Create a training set and a test set\n",
    "\n",
    "X_train, X_test, y_train, y_test = train_test_split(features, labels, test_size=0.20)"
   ]
  },
  {
   "cell_type": "code",
   "execution_count": 89,
   "id": "crude-farming",
   "metadata": {},
   "outputs": [],
   "source": [
    "# Instantiate the model\n",
    "\n",
    "rf = RandomForestClassifier()"
   ]
  },
  {
   "cell_type": "code",
   "execution_count": null,
   "id": "motivated-ocean",
   "metadata": {},
   "outputs": [],
   "source": [
    "# Calculating the optimal candidate settings for max_features\n",
    "\n",
    "[np.trunc(np.sqrt((np.log2(150000) + 1)*0.1)), np.trunc(np.sqrt((np.log2(150000) + 1)*0.25)), \n",
    " np.trunc(np.sqrt((np.log2(150000) + 1)*0.5)), np.trunc(np.sqrt((np.log2(150000) + 1)*1)), \n",
    " np.trunc(np.sqrt((np.log2(150000) + 1)*2)), np.trunc(np.sqrt((np.log2(150000) + 1)*4))]"
   ]
  },
  {
   "cell_type": "code",
   "execution_count": 90,
   "id": "finite-grade",
   "metadata": {},
   "outputs": [],
   "source": [
    "# Create the parameter grid\n",
    "param_grid = {\n",
    "    'n_estimators': [100, 250, 500, 750, 1000],\n",
    "    'max_features': [1, 2, 3, 4, 6, 8]\n",
    "}"
   ]
  },
  {
   "cell_type": "code",
   "execution_count": 91,
   "id": "silver-niger",
   "metadata": {},
   "outputs": [],
   "source": [
    "# Instantiate the grid search model\n",
    "grid_search = GridSearchCV(rf, param_grid=param_grid, cv=5, verbose=3)"
   ]
  },
  {
   "cell_type": "code",
   "execution_count": null,
   "id": "alike-condition",
   "metadata": {},
   "outputs": [
    {
     "name": "stdout",
     "output_type": "stream",
     "text": [
      "Fitting 5 folds for each of 30 candidates, totalling 150 fits\n",
      "[CV 1/5] END ...............max_features=1, n_estimators=100; total time=   8.4s\n",
      "[CV 2/5] END ...............max_features=1, n_estimators=100; total time=   8.6s\n",
      "[CV 3/5] END ...............max_features=1, n_estimators=100; total time=   8.0s\n",
      "[CV 4/5] END ...............max_features=1, n_estimators=100; total time=   8.4s\n",
      "[CV 5/5] END ...............max_features=1, n_estimators=100; total time=   8.9s\n",
      "[CV 1/5] END ...............max_features=1, n_estimators=250; total time=  20.8s\n",
      "[CV 2/5] END ...............max_features=1, n_estimators=250; total time=  20.7s\n",
      "[CV 3/5] END ...............max_features=1, n_estimators=250; total time=  22.7s\n",
      "[CV 4/5] END ...............max_features=1, n_estimators=250; total time=  21.2s\n",
      "[CV 5/5] END ...............max_features=1, n_estimators=250; total time=  20.7s\n",
      "[CV 1/5] END ...............max_features=1, n_estimators=500; total time=  43.9s\n",
      "[CV 2/5] END ...............max_features=1, n_estimators=500; total time=  40.5s\n",
      "[CV 3/5] END ...............max_features=1, n_estimators=500; total time=  41.1s\n",
      "[CV 4/5] END ...............max_features=1, n_estimators=500; total time=  45.1s\n",
      "[CV 5/5] END ...............max_features=1, n_estimators=500; total time=  43.4s\n",
      "[CV 1/5] END ...............max_features=1, n_estimators=750; total time= 1.1min\n",
      "[CV 2/5] END ...............max_features=1, n_estimators=750; total time= 1.0min\n",
      "[CV 3/5] END ...............max_features=1, n_estimators=750; total time= 1.0min\n",
      "[CV 4/5] END ...............max_features=1, n_estimators=750; total time= 1.0min\n",
      "[CV 5/5] END ...............max_features=1, n_estimators=750; total time= 1.3min\n",
      "[CV 1/5] END ..............max_features=1, n_estimators=1000; total time= 1.5min\n",
      "[CV 2/5] END ..............max_features=1, n_estimators=1000; total time= 1.4min\n",
      "[CV 3/5] END ..............max_features=1, n_estimators=1000; total time= 1.4min\n",
      "[CV 4/5] END ..............max_features=1, n_estimators=1000; total time= 1.4min\n",
      "[CV 5/5] END ..............max_features=1, n_estimators=1000; total time= 1.4min\n",
      "[CV 1/5] END ...............max_features=2, n_estimators=100; total time=  13.5s\n",
      "[CV 2/5] END ...............max_features=2, n_estimators=100; total time=  13.7s\n",
      "[CV 3/5] END ...............max_features=2, n_estimators=100; total time=  13.9s\n",
      "[CV 4/5] END ...............max_features=2, n_estimators=100; total time=  13.3s\n",
      "[CV 5/5] END ...............max_features=2, n_estimators=100; total time=  13.5s\n",
      "[CV 1/5] END ...............max_features=2, n_estimators=250; total time=  33.8s\n",
      "[CV 2/5] END ...............max_features=2, n_estimators=250; total time=  34.1s\n",
      "[CV 3/5] END ...............max_features=2, n_estimators=250; total time=  36.4s\n",
      "[CV 4/5] END ...............max_features=2, n_estimators=250; total time=  40.9s\n",
      "[CV 5/5] END ...............max_features=2, n_estimators=250; total time=  36.7s\n",
      "[CV 1/5] END ...............max_features=2, n_estimators=500; total time=13.3min\n",
      "[CV 2/5] END ...............max_features=2, n_estimators=500; total time= 1.4min\n",
      "[CV 3/5] END ...............max_features=2, n_estimators=500; total time= 1.4min\n",
      "[CV 4/5] END ...............max_features=2, n_estimators=500; total time= 1.3min\n",
      "[CV 5/5] END ...............max_features=2, n_estimators=500; total time= 1.5min\n",
      "[CV 1/5] END ...............max_features=2, n_estimators=750; total time= 1.9min\n",
      "[CV 2/5] END ...............max_features=2, n_estimators=750; total time= 2.0min\n",
      "[CV 3/5] END ...............max_features=2, n_estimators=750; total time= 2.4min\n",
      "[CV 4/5] END ...............max_features=2, n_estimators=750; total time= 1.9min\n",
      "[CV 5/5] END ...............max_features=2, n_estimators=750; total time= 1.8min\n",
      "[CV 1/5] END ..............max_features=2, n_estimators=1000; total time= 2.7min\n",
      "[CV 2/5] END ..............max_features=2, n_estimators=1000; total time= 2.8min\n",
      "[CV 3/5] END ..............max_features=2, n_estimators=1000; total time= 3.8min\n",
      "[CV 4/5] END ..............max_features=2, n_estimators=1000; total time= 4.1min\n",
      "[CV 5/5] END ..............max_features=2, n_estimators=1000; total time= 3.4min\n",
      "[CV 1/5] END ...............max_features=3, n_estimators=100; total time=  22.5s\n",
      "[CV 2/5] END ...............max_features=3, n_estimators=100; total time=  22.1s\n",
      "[CV 3/5] END ...............max_features=3, n_estimators=100; total time=  22.5s\n",
      "[CV 4/5] END ...............max_features=3, n_estimators=100; total time=  21.1s\n",
      "[CV 5/5] END ...............max_features=3, n_estimators=100; total time=  19.3s\n",
      "[CV 1/5] END ...............max_features=3, n_estimators=250; total time=  49.8s\n",
      "[CV 2/5] END ...............max_features=3, n_estimators=250; total time=  48.1s\n",
      "[CV 3/5] END ...............max_features=3, n_estimators=250; total time=  52.7s\n",
      "[CV 4/5] END ...............max_features=3, n_estimators=250; total time= 1.1min\n",
      "[CV 5/5] END ...............max_features=3, n_estimators=250; total time=  58.2s\n",
      "[CV 1/5] END ...............max_features=3, n_estimators=500; total time= 1.7min\n",
      "[CV 2/5] END ...............max_features=3, n_estimators=500; total time= 1.8min\n",
      "[CV 3/5] END ...............max_features=3, n_estimators=500; total time= 1.7min\n",
      "[CV 4/5] END ...............max_features=3, n_estimators=500; total time= 1.6min\n",
      "[CV 5/5] END ...............max_features=3, n_estimators=500; total time= 1.7min\n",
      "[CV 1/5] END ...............max_features=3, n_estimators=750; total time= 2.6min\n",
      "[CV 2/5] END ...............max_features=3, n_estimators=750; total time= 2.4min\n",
      "[CV 3/5] END ...............max_features=3, n_estimators=750; total time= 2.7min\n",
      "[CV 4/5] END ...............max_features=3, n_estimators=750; total time= 2.7min\n",
      "[CV 5/5] END ...............max_features=3, n_estimators=750; total time= 2.7min\n",
      "[CV 1/5] END ..............max_features=3, n_estimators=1000; total time= 4.0min\n",
      "[CV 2/5] END ..............max_features=3, n_estimators=1000; total time= 3.9min\n",
      "[CV 3/5] END ..............max_features=3, n_estimators=1000; total time= 4.2min\n",
      "[CV 4/5] END ..............max_features=3, n_estimators=1000; total time= 3.8min\n",
      "[CV 5/5] END ..............max_features=3, n_estimators=1000; total time= 3.4min\n",
      "[CV 1/5] END ...............max_features=4, n_estimators=100; total time=  26.9s\n",
      "[CV 2/5] END ...............max_features=4, n_estimators=100; total time=  26.0s\n",
      "[CV 3/5] END ...............max_features=4, n_estimators=100; total time=  27.5s\n",
      "[CV 4/5] END ...............max_features=4, n_estimators=100; total time=  27.9s\n",
      "[CV 5/5] END ...............max_features=4, n_estimators=100; total time=  26.8s\n",
      "[CV 1/5] END ...............max_features=4, n_estimators=250; total time= 1.2min\n",
      "[CV 2/5] END ...............max_features=4, n_estimators=250; total time= 1.2min\n",
      "[CV 3/5] END ...............max_features=4, n_estimators=250; total time= 1.4min\n",
      "[CV 4/5] END ...............max_features=4, n_estimators=250; total time= 1.2min\n",
      "[CV 5/5] END ...............max_features=4, n_estimators=250; total time= 1.2min\n",
      "[CV 1/5] END ...............max_features=4, n_estimators=500; total time= 2.3min\n",
      "[CV 2/5] END ...............max_features=4, n_estimators=500; total time= 2.6min\n",
      "[CV 3/5] END ...............max_features=4, n_estimators=500; total time= 2.5min\n",
      "[CV 4/5] END ...............max_features=4, n_estimators=500; total time= 2.3min\n",
      "[CV 5/5] END ...............max_features=4, n_estimators=500; total time= 2.3min\n",
      "[CV 1/5] END ...............max_features=4, n_estimators=750; total time= 3.5min\n",
      "[CV 2/5] END ...............max_features=4, n_estimators=750; total time= 3.5min\n",
      "[CV 3/5] END ...............max_features=4, n_estimators=750; total time= 3.7min\n",
      "[CV 4/5] END ...............max_features=4, n_estimators=750; total time= 3.4min\n",
      "[CV 5/5] END ...............max_features=4, n_estimators=750; total time= 3.6min\n",
      "[CV 1/5] END ..............max_features=4, n_estimators=1000; total time= 6.0min\n",
      "[CV 2/5] END ..............max_features=4, n_estimators=1000; total time= 4.6min\n",
      "[CV 3/5] END ..............max_features=4, n_estimators=1000; total time= 4.5min\n",
      "[CV 4/5] END ..............max_features=4, n_estimators=1000; total time= 4.1min\n",
      "[CV 5/5] END ..............max_features=4, n_estimators=1000; total time= 4.3min\n",
      "[CV 1/5] END ...............max_features=6, n_estimators=100; total time=  34.6s\n"
     ]
    },
    {
     "name": "stdout",
     "output_type": "stream",
     "text": [
      "[CV 2/5] END ...............max_features=6, n_estimators=100; total time=  35.0s\n",
      "[CV 3/5] END ...............max_features=6, n_estimators=100; total time=  38.5s\n",
      "[CV 4/5] END ...............max_features=6, n_estimators=100; total time=  35.2s\n",
      "[CV 5/5] END ...............max_features=6, n_estimators=100; total time=  35.9s\n",
      "[CV 1/5] END ...............max_features=6, n_estimators=250; total time= 1.6min\n",
      "[CV 2/5] END ...............max_features=6, n_estimators=250; total time=27.4min\n",
      "[CV 3/5] END ...............max_features=6, n_estimators=250; total time= 1.7min\n",
      "[CV 4/5] END ...............max_features=6, n_estimators=250; total time= 1.6min\n",
      "[CV 5/5] END ...............max_features=6, n_estimators=250; total time= 1.7min\n",
      "[CV 1/5] END ...............max_features=6, n_estimators=500; total time= 3.5min\n",
      "[CV 2/5] END ...............max_features=6, n_estimators=500; total time= 4.1min\n",
      "[CV 3/5] END ...............max_features=6, n_estimators=500; total time= 3.2min\n",
      "[CV 4/5] END ...............max_features=6, n_estimators=500; total time= 3.8min\n",
      "[CV 5/5] END ...............max_features=6, n_estimators=500; total time= 3.6min\n",
      "[CV 1/5] END ...............max_features=6, n_estimators=750; total time= 5.1min\n",
      "[CV 2/5] END ...............max_features=6, n_estimators=750; total time= 5.4min\n",
      "[CV 3/5] END ...............max_features=6, n_estimators=750; total time= 5.2min\n",
      "[CV 4/5] END ...............max_features=6, n_estimators=750; total time= 5.4min\n",
      "[CV 5/5] END ...............max_features=6, n_estimators=750; total time= 5.6min\n",
      "[CV 1/5] END ..............max_features=6, n_estimators=1000; total time= 7.0min\n",
      "[CV 2/5] END ..............max_features=6, n_estimators=1000; total time= 7.0min\n",
      "[CV 3/5] END ..............max_features=6, n_estimators=1000; total time= 8.6min\n",
      "[CV 4/5] END ..............max_features=6, n_estimators=1000; total time= 7.1min\n",
      "[CV 5/5] END ..............max_features=6, n_estimators=1000; total time= 6.8min\n",
      "[CV 1/5] END ...............max_features=8, n_estimators=100; total time=  53.1s\n",
      "[CV 2/5] END ...............max_features=8, n_estimators=100; total time=  47.6s\n",
      "[CV 3/5] END ...............max_features=8, n_estimators=100; total time=  54.4s\n",
      "[CV 4/5] END ...............max_features=8, n_estimators=100; total time=  51.5s\n",
      "[CV 5/5] END ...............max_features=8, n_estimators=100; total time=  50.3s\n",
      "[CV 1/5] END ...............max_features=8, n_estimators=250; total time= 2.1min\n",
      "[CV 2/5] END ...............max_features=8, n_estimators=250; total time= 2.2min\n",
      "[CV 3/5] END ...............max_features=8, n_estimators=250; total time= 2.0min\n",
      "[CV 4/5] END ...............max_features=8, n_estimators=250; total time= 2.1min\n",
      "[CV 5/5] END ...............max_features=8, n_estimators=250; total time= 2.3min\n",
      "[CV 1/5] END ...............max_features=8, n_estimators=500; total time= 4.4min\n",
      "[CV 2/5] END ...............max_features=8, n_estimators=500; total time= 4.4min\n",
      "[CV 3/5] END ...............max_features=8, n_estimators=500; total time= 4.4min\n",
      "[CV 4/5] END ...............max_features=8, n_estimators=500; total time= 4.3min\n",
      "[CV 5/5] END ...............max_features=8, n_estimators=500; total time= 4.5min\n",
      "[CV 1/5] END ...............max_features=8, n_estimators=750; total time= 6.4min\n",
      "[CV 2/5] END ...............max_features=8, n_estimators=750; total time= 6.7min\n",
      "[CV 3/5] END ...............max_features=8, n_estimators=750; total time= 6.7min\n",
      "[CV 4/5] END ...............max_features=8, n_estimators=750; total time= 6.4min\n",
      "[CV 5/5] END ...............max_features=8, n_estimators=750; total time= 6.4min\n",
      "[CV 1/5] END ..............max_features=8, n_estimators=1000; total time= 9.1min\n"
     ]
    }
   ],
   "source": [
    "grid_search.fit(X_train, y_train)"
   ]
  }
 ],
 "metadata": {
  "kernelspec": {
   "display_name": "Python 3",
   "language": "python",
   "name": "python3"
  },
  "language_info": {
   "codemirror_mode": {
    "name": "ipython",
    "version": 3
   },
   "file_extension": ".py",
   "mimetype": "text/x-python",
   "name": "python",
   "nbconvert_exporter": "python",
   "pygments_lexer": "ipython3",
   "version": "3.8.5"
  }
 },
 "nbformat": 4,
 "nbformat_minor": 5
}
