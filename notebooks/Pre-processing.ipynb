{
 "cells": [
  {
   "cell_type": "markdown",
   "id": "seven-rabbit",
   "metadata": {},
   "source": [
    "# Explainable AI: Application in Credit Scoring\n",
    "\n",
    "Thesis: Explainable AI: Applications in Credit Scoring <br>\n",
    "Degree: Master of Information Management <br>\n",
    "Dataset: Give Me Some Credit (GMC), taken from Kaggle"
   ]
  },
  {
   "cell_type": "markdown",
   "id": "active-watson",
   "metadata": {},
   "source": [
    "### Import all the necessary packages"
   ]
  },
  {
   "cell_type": "code",
   "execution_count": 42,
   "id": "corrected-subscriber",
   "metadata": {},
   "outputs": [],
   "source": [
    "import pandas as pd\n",
    "from sklearn.impute import SimpleImputer\n",
    "from sklearn.preprocessing import MinMaxScaler\n",
    "from statsmodels.stats.outliers_influence import variance_inflation_factor"
   ]
  },
  {
   "cell_type": "markdown",
   "id": "administrative-responsibility",
   "metadata": {},
   "source": [
    "### Importing the dataset"
   ]
  },
  {
   "cell_type": "code",
   "execution_count": 7,
   "id": "standing-uniform",
   "metadata": {},
   "outputs": [],
   "source": [
    "path = \"~/Desktop/Master of Information Management/Master's Thesis/GiveMeSomeCredit/cs-training.csv\"\n",
    "df_training = pd.read_csv(path)"
   ]
  },
  {
   "cell_type": "code",
   "execution_count": 11,
   "id": "handed-motivation",
   "metadata": {},
   "outputs": [],
   "source": [
    "df_training.drop(['Unnamed: 0'], axis=1, inplace=True)"
   ]
  },
  {
   "cell_type": "markdown",
   "id": "continent-torture",
   "metadata": {},
   "source": [
    "### Pre-processing"
   ]
  },
  {
   "cell_type": "markdown",
   "id": "thermal-nigeria",
   "metadata": {},
   "source": [
    "#### Dealing with missing values"
   ]
  },
  {
   "cell_type": "code",
   "execution_count": 13,
   "id": "parental-hawaiian",
   "metadata": {},
   "outputs": [],
   "source": [
    "imputer = SimpleImputer(strategy=\"median\")"
   ]
  },
  {
   "cell_type": "code",
   "execution_count": 15,
   "id": "early-election",
   "metadata": {},
   "outputs": [
    {
     "data": {
      "text/plain": [
       "SimpleImputer(strategy='median')"
      ]
     },
     "execution_count": 15,
     "metadata": {},
     "output_type": "execute_result"
    }
   ],
   "source": [
    "imputer.fit(df_training)"
   ]
  },
  {
   "cell_type": "code",
   "execution_count": 18,
   "id": "unexpected-reduction",
   "metadata": {},
   "outputs": [],
   "source": [
    "X = imputer.transform(df_training)"
   ]
  },
  {
   "cell_type": "code",
   "execution_count": 23,
   "id": "sustainable-philippines",
   "metadata": {},
   "outputs": [],
   "source": [
    "df_training = pd.DataFrame(X, columns=df_training.columns, index=df_training.index)"
   ]
  },
  {
   "cell_type": "code",
   "execution_count": 3,
   "id": "ideal-remedy",
   "metadata": {},
   "outputs": [
    {
     "ename": "NameError",
     "evalue": "name 'df_training' is not defined",
     "output_type": "error",
     "traceback": [
      "\u001b[0;31m---------------------------------------------------------------------------\u001b[0m",
      "\u001b[0;31mNameError\u001b[0m                                 Traceback (most recent call last)",
      "\u001b[0;32m<ipython-input-3-253095b29da9>\u001b[0m in \u001b[0;36m<module>\u001b[0;34m\u001b[0m\n\u001b[0;32m----> 1\u001b[0;31m \u001b[0mdf_training\u001b[0m\u001b[0;34m.\u001b[0m\u001b[0misna\u001b[0m\u001b[0;34m(\u001b[0m\u001b[0;34m)\u001b[0m\u001b[0;34m.\u001b[0m\u001b[0many\u001b[0m\u001b[0;34m(\u001b[0m\u001b[0;34m)\u001b[0m\u001b[0;34m\u001b[0m\u001b[0;34m\u001b[0m\u001b[0m\n\u001b[0m",
      "\u001b[0;31mNameError\u001b[0m: name 'df_training' is not defined"
     ]
    }
   ],
   "source": [
    "df_training.isna().any()"
   ]
  },
  {
   "cell_type": "markdown",
   "id": "jewish-chess",
   "metadata": {},
   "source": [
    "#### Dealing with multicollinearity based on VIF <= 10"
   ]
  },
  {
   "cell_type": "code",
   "execution_count": 44,
   "id": "medieval-thread",
   "metadata": {},
   "outputs": [],
   "source": [
    "## independent variabels\n",
    "X = df_training[['RevolvingUtilizationOfUnsecuredLines', 'age',\n",
    "       'NumberOfTime30-59DaysPastDueNotWorse', 'DebtRatio', 'MonthlyIncome',\n",
    "       'NumberOfOpenCreditLinesAndLoans', 'NumberOfTimes90DaysLate',\n",
    "       'NumberRealEstateLoansOrLines', 'NumberOfTime60-89DaysPastDueNotWorse',\n",
    "       'NumberOfDependents']]"
   ]
  },
  {
   "cell_type": "code",
   "execution_count": 46,
   "id": "public-champion",
   "metadata": {},
   "outputs": [],
   "source": [
    "## VIF dataframe\n",
    "vif_data = pd.DataFrame()"
   ]
  },
  {
   "cell_type": "code",
   "execution_count": 47,
   "id": "noticed-necklace",
   "metadata": {},
   "outputs": [],
   "source": [
    "vif_data[\"feature\"] = X.columns"
   ]
  },
  {
   "cell_type": "code",
   "execution_count": 48,
   "id": "potential-publicity",
   "metadata": {},
   "outputs": [],
   "source": [
    "## calculating VIF for each feature\n",
    "vif_data[\"VIF\"] = [variance_inflation_factor(X.values, i) for i in range(len(X.columns))]"
   ]
  },
  {
   "cell_type": "code",
   "execution_count": 49,
   "id": "wanted-tolerance",
   "metadata": {},
   "outputs": [
    {
     "name": "stdout",
     "output_type": "stream",
     "text": [
      "                                feature        VIF\n",
      "0  RevolvingUtilizationOfUnsecuredLines   1.000777\n",
      "1                                   age   3.638439\n",
      "2  NumberOfTime30-59DaysPastDueNotWorse  41.173243\n",
      "3                             DebtRatio   1.049552\n",
      "4                         MonthlyIncome   1.269632\n",
      "5       NumberOfOpenCreditLinesAndLoans   4.570548\n",
      "6               NumberOfTimes90DaysLate  73.196237\n",
      "7          NumberRealEstateLoansOrLines   2.304678\n",
      "8  NumberOfTime60-89DaysPastDueNotWorse  91.181441\n",
      "9                    NumberOfDependents   1.403443\n"
     ]
    }
   ],
   "source": [
    "print(vif_data)"
   ]
  },
  {
   "cell_type": "code",
   "execution_count": 51,
   "id": "bottom-assessment",
   "metadata": {},
   "outputs": [],
   "source": [
    "## drop 'NumberOfTime30-59DaysPastDueNotWorse' and 'NumberOfTime60-89DaysPastDueNotWorse' and repeat process\n",
    "X = df_training[['RevolvingUtilizationOfUnsecuredLines', 'age',\n",
    "       'NumberOfTime30-59DaysPastDueNotWorse', 'DebtRatio', 'MonthlyIncome',\n",
    "       'NumberOfOpenCreditLinesAndLoans', 'NumberRealEstateLoansOrLines',\n",
    "       'NumberOfDependents']]"
   ]
  },
  {
   "cell_type": "code",
   "execution_count": 52,
   "id": "collected-beatles",
   "metadata": {},
   "outputs": [],
   "source": [
    "vif_data=pd.DataFrame()"
   ]
  },
  {
   "cell_type": "code",
   "execution_count": 53,
   "id": "religious-river",
   "metadata": {},
   "outputs": [],
   "source": [
    "vif_data[\"feature\"] = X.columns"
   ]
  },
  {
   "cell_type": "code",
   "execution_count": 54,
   "id": "passing-trash",
   "metadata": {},
   "outputs": [],
   "source": [
    "vif_data[\"VIF\"] = [variance_inflation_factor(X.values, i) for i in range(len(X.columns))]"
   ]
  },
  {
   "cell_type": "code",
   "execution_count": 55,
   "id": "searching-remedy",
   "metadata": {},
   "outputs": [
    {
     "name": "stdout",
     "output_type": "stream",
     "text": [
      "                                feature       VIF\n",
      "0  RevolvingUtilizationOfUnsecuredLines  1.000777\n",
      "1                                   age  3.623498\n",
      "2  NumberOfTime30-59DaysPastDueNotWorse  1.007052\n",
      "3                             DebtRatio  1.049539\n",
      "4                         MonthlyIncome  1.269621\n",
      "5       NumberOfOpenCreditLinesAndLoans  4.502202\n",
      "6          NumberRealEstateLoansOrLines  2.303571\n",
      "7                    NumberOfDependents  1.399348\n"
     ]
    }
   ],
   "source": [
    "print(vif_data)"
   ]
  },
  {
   "cell_type": "code",
   "execution_count": 57,
   "id": "handmade-instruction",
   "metadata": {},
   "outputs": [],
   "source": [
    "df_training = df_training.drop(['NumberOfTime60-89DaysPastDueNotWorse', 'NumberOfTimes90DaysLate'], axis=1)"
   ]
  },
  {
   "cell_type": "code",
   "execution_count": 60,
   "id": "recognized-sucking",
   "metadata": {},
   "outputs": [
    {
     "data": {
      "text/plain": [
       "(150000, 9)"
      ]
     },
     "execution_count": 60,
     "metadata": {},
     "output_type": "execute_result"
    }
   ],
   "source": [
    "df_training.shape"
   ]
  },
  {
   "cell_type": "code",
   "execution_count": 61,
   "id": "lesser-apparel",
   "metadata": {},
   "outputs": [
    {
     "data": {
      "text/plain": [
       "Index(['SeriousDlqin2yrs', 'RevolvingUtilizationOfUnsecuredLines', 'age',\n",
       "       'NumberOfTime30-59DaysPastDueNotWorse', 'DebtRatio', 'MonthlyIncome',\n",
       "       'NumberOfOpenCreditLinesAndLoans', 'NumberRealEstateLoansOrLines',\n",
       "       'NumberOfDependents'],\n",
       "      dtype='object')"
      ]
     },
     "execution_count": 61,
     "metadata": {},
     "output_type": "execute_result"
    }
   ],
   "source": [
    "df_training.columns"
   ]
  },
  {
   "cell_type": "code",
   "execution_count": 62,
   "id": "injured-husband",
   "metadata": {},
   "outputs": [
    {
     "name": "stdout",
     "output_type": "stream",
     "text": [
      "<class 'pandas.core.frame.DataFrame'>\n",
      "RangeIndex: 150000 entries, 0 to 149999\n",
      "Data columns (total 9 columns):\n",
      " #   Column                                Non-Null Count   Dtype  \n",
      "---  ------                                --------------   -----  \n",
      " 0   SeriousDlqin2yrs                      150000 non-null  float64\n",
      " 1   RevolvingUtilizationOfUnsecuredLines  150000 non-null  float64\n",
      " 2   age                                   150000 non-null  float64\n",
      " 3   NumberOfTime30-59DaysPastDueNotWorse  150000 non-null  float64\n",
      " 4   DebtRatio                             150000 non-null  float64\n",
      " 5   MonthlyIncome                         150000 non-null  float64\n",
      " 6   NumberOfOpenCreditLinesAndLoans       150000 non-null  float64\n",
      " 7   NumberRealEstateLoansOrLines          150000 non-null  float64\n",
      " 8   NumberOfDependents                    150000 non-null  float64\n",
      "dtypes: float64(9)\n",
      "memory usage: 10.3 MB\n"
     ]
    }
   ],
   "source": [
    "df_training.info()"
   ]
  },
  {
   "cell_type": "markdown",
   "id": "female-repeat",
   "metadata": {},
   "source": [
    "### Feature scaling will be performed in the MLP Notebook"
   ]
  }
 ],
 "metadata": {
  "kernelspec": {
   "display_name": "Python 3",
   "language": "python",
   "name": "python3"
  },
  "language_info": {
   "codemirror_mode": {
    "name": "ipython",
    "version": 3
   },
   "file_extension": ".py",
   "mimetype": "text/x-python",
   "name": "python",
   "nbconvert_exporter": "python",
   "pygments_lexer": "ipython3",
   "version": "3.8.5"
  }
 },
 "nbformat": 4,
 "nbformat_minor": 5
}
